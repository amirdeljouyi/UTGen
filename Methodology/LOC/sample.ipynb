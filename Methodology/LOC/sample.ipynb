{
 "cells": [
  {
   "cell_type": "code",
   "execution_count": null,
   "id": "initial_id",
   "metadata": {
    "collapsed": true
   },
   "outputs": [],
   "source": [
    "import pandas as pd\n",
    "import numpy as np\n",
    "import matplotlib.pyplot as plt\n",
    "import seaborn as sns"
   ]
  },
  {
   "metadata": {},
   "cell_type": "code",
   "outputs": [],
   "execution_count": null,
   "source": [
    "df = pd.read_csv(\"./locs.csv\")\n",
    "mean_line_count = df[\"Lines\"].mean()\n",
    "std_line_count = df[\"Lines\"].std()*0.1\n",
    "mean_string_count = df[\"String_Char_Count\"].mean()\n",
    "std_string_count = df[\"String_Char_Count\"].std()*0.1\n",
    "mean_numeric_count = df[\"Number_Types_Count\"].mean()\n",
    "std_numeric_count = df[\"Number_Types_Count\"].std()*0.1\n",
    "\n",
    "lower_loc = mean_line_count - std_line_count\n",
    "upper_loc = mean_line_count + std_line_count\n",
    "\n",
    "lower_string = mean_string_count - std_string_count\n",
    "upper_string = mean_string_count + std_string_count\n",
    "\n",
    "lower_numeric = mean_numeric_count - std_numeric_count\n",
    "upper_numeric = mean_numeric_count + std_numeric_count\n",
    "\n",
    "filtered_df = df[(df['Lines'] >= lower_loc) & (df['Lines'] <= upper_loc)]\n",
    "filtered_df = filtered_df[(filtered_df['String_Char_Count'] >= lower_string) & (filtered_df['String_Char_Count'] <= upper_string)]\n",
    "filtered_df = filtered_df[(filtered_df['Number_Types_Count'] >= lower_string) & (filtered_df['Number_Types_Count'] <= upper_string)]\n",
    "\n",
    "filtered_df"
   ],
   "id": "47f01d827668ecd3"
  }
 ],
 "metadata": {
  "kernelspec": {
   "display_name": "Python 3",
   "language": "python",
   "name": "python3"
  },
  "language_info": {
   "codemirror_mode": {
    "name": "ipython",
    "version": 2
   },
   "file_extension": ".py",
   "mimetype": "text/x-python",
   "name": "python",
   "nbconvert_exporter": "python",
   "pygments_lexer": "ipython2",
   "version": "2.7.6"
  }
 },
 "nbformat": 4,
 "nbformat_minor": 5
}
